{
 "cells": [
  {
   "cell_type": "markdown",
   "metadata": {
    "collapsed": true,
    "pycharm": {
     "name": "#%% md\n"
    }
   },
   "source": [
    "## Create datastructure of a RNA sequence\n",
    "\n",
    "Intended to be a series of 4 dataframes, obtained reading top and pdb file:\n",
    "- bonds, 3 * Nbonds matrix, obtained from Section_bonds\n",
    "- angles, 4 * Nangles matrix, obtained from Section_angles\n",
    "- torsions, 5 * Ntors matrix, obtained from section_dihedrals\n",
    "- sequence, a Nparticle * 6 matrix, containing:\n",
    "-- particle type (number in range 1:11)\n",
    "-- mass\n",
    "-- charge\n",
    "-- coordinates (x,y,z)\n"
   ]
  },
  {
   "cell_type": "code",
   "execution_count": 35,
   "outputs": [],
   "source": [
    "import pandas as pd\n",
    "import numpy as np\n",
    "from Bio.PDB import *\n",
    "import os"
   ],
   "metadata": {
    "collapsed": false,
    "pycharm": {
     "name": "#%%\n"
    }
   }
  },
  {
   "cell_type": "code",
   "execution_count": 36,
   "outputs": [
    {
     "name": "stdout",
     "output_type": "stream",
     "text": [
      "(142, 3)\n"
     ]
    }
   ],
   "source": [
    "rootpath = '/home/flechenault/Documents/Gianluca/Structure_DB_Amber_HiRE'\n",
    "filename = '/Prep_pureHire/Output/2g1w/2g1w_CG.pdb'\n",
    "\n",
    "parser = PDBParser()\n",
    "model = parser.get_structure('Y', rootpath+filename)[0]\n",
    "coords = []\n",
    "for a in model.get_atoms():\n",
    "    coords.append(a.get_coord())\n",
    "coords = np.array(coords)\n",
    "print(coords.shape)"
   ],
   "metadata": {
    "collapsed": false,
    "pycharm": {
     "name": "#%%\n"
    }
   }
  },
  {
   "cell_type": "code",
   "execution_count": 37,
   "outputs": [],
   "source": [
    "# Top file parser to extract relevant information\n",
    "\n",
    "sections = ('PARTICLE_MASSES','PARTICLE_TYPE','CHARGES','BONDS','ANGLES','DIHEDRALS')\n",
    "\n",
    "with open(rootpath+'/Prep_pureHire/Output/2g1w/'+'parameters.top', 'r') as f:\n",
    "    reader = f.read()\n",
    "\n",
    "    text = reader.split(\"SECTION PARTICLE_MASSES\")[1].split(\"SECTION PARTICLE_TYPE\")[0].strip()\n",
    "    mass = [float(i) for i in text.split()]\n",
    "    # print(mass)\n",
    "\n",
    "    text = reader.split(\"SECTION PARTICLE_TYPE\")[1].split(\"SECTION CHARGES\")[0].strip()\n",
    "    atom_type = [int(i) for i in text.split()]\n",
    "    # print(atom_type)\n",
    "\n",
    "    text = reader.split(\"SECTION CHARGES\")[1].split(\"SECTION BOND_FORCE_CONSTANT\")[0].strip()\n",
    "    charge = [float(i) for i in text.split()]\n",
    "    # print(charge)\n",
    "\n",
    "    text = reader.split(\"SECTION BONDS\")[1].split(\"SECTION ANGLES\")[0].strip()\n",
    "    bonds = [int(i) for i in text.split()]\n",
    "    # print(bonds)\n",
    "\n",
    "    text = reader.split(\"SECTION ANGLES\")[1].split(\"SECTION DIHEDRALS\")[0].strip()\n",
    "    angles = [int(i) for i in text.split()]\n",
    "    # print(angles)\n",
    "\n",
    "    text = reader.split(\"SECTION DIHEDRALS\")[1].strip()\n",
    "    tors = [int(i) for i in text.split()]\n",
    "    # print(tors)"
   ],
   "metadata": {
    "collapsed": false,
    "pycharm": {
     "name": "#%%\n"
    }
   }
  },
  {
   "cell_type": "code",
   "execution_count": 38,
   "outputs": [],
   "source": [
    "# obtain energies from Amber\n",
    "\n",
    "def is_float(n):\n",
    "    try:\n",
    "        float(n)\n",
    "        return True\n",
    "    except:\n",
    "        return False\n",
    "\n",
    "with open(rootpath+'/FA_PDB/Amber_energies/2g1w_energy', 'r') as f:\n",
    "    energy = [float(n) for n in f.read().split() if is_float(n)]"
   ],
   "metadata": {
    "collapsed": false,
    "pycharm": {
     "name": "#%%\n"
    }
   }
  },
  {
   "cell_type": "code",
   "execution_count": 39,
   "outputs": [
    {
     "name": "stdout",
     "output_type": "stream",
     "text": [
      "atom_type    [2, 1, 4, 5, 6, 7, 3, 2, 1, 4, 5, 6, 7, 3, 2, ...\n",
      "mass         [16.0, 12.01, 20.0, 12.0, 75.0, 75.0, 36.97, 1...\n",
      "charge       [0.0, 0.0, 0.0, 0.0, 0.0, 0.0, -1.0, 0.0, 0.0,...\n",
      "x            [-3.051, -3.76, -4.308, -5.478, -5.461, -6.871...\n",
      "y            [-9.645, -9.267, -7.866, -6.666, -7.28, -5.735...\n",
      "z            [-13.68, -14.861, -14.729, -13.092, -10.543, -...\n",
      "bonds        [6, 18, 1, 6, 9, 2, 9, 12, 3, 12, 15, 7, 3, 6,...\n",
      "angles       [6, 9, 12, 3, 9, 12, 15, 6, 0, 3, 6, 8, 3, 6, ...\n",
      "torsions     [6, 9, 12, 15, 1, 6, 9, 12, 15, 2, 6, 12, 15, ...\n",
      "energy       [45.101535, 154.8894705, 621.3587353, 167.3106...\n",
      "dtype: object\n"
     ]
    }
   ],
   "source": [
    "# create Series with pandas, with all info about the RNA sequence\n",
    "\n",
    "data = {'atom_type': atom_type,\n",
    "        'mass': mass,\n",
    "        'charge': charge,\n",
    "        'x': coords[:,0],\n",
    "        'y': coords[:,1],\n",
    "        'z': coords[:,2],\n",
    "        'bonds': bonds,\n",
    "        'angles': angles,\n",
    "        'torsions': tors,\n",
    "        'energy': energy}\n",
    "ds = pd.Series(data)\n",
    "# print(ds[0].iloc[:,0])  # access first column of seq_info dataframe\n",
    "print(ds)"
   ],
   "metadata": {
    "collapsed": false,
    "pycharm": {
     "name": "#%%\n"
    }
   }
  },
  {
   "cell_type": "code",
   "execution_count": 40,
   "outputs": [],
   "source": [
    "ds.to_pickle('/home/flechenault/Documents/Gianluca/2g1w.pkl')"
   ],
   "metadata": {
    "collapsed": false,
    "pycharm": {
     "name": "#%%\n"
    }
   }
  },
  {
   "cell_type": "code",
   "execution_count": 41,
   "outputs": [
    {
     "name": "stdout",
     "output_type": "stream",
     "text": [
      "<class 'list'>\n"
     ]
    }
   ],
   "source": [
    "ds2 = pd.read_pickle('/home/flechenault/Documents/Gianluca/2g1w.pkl')\n",
    "print(type(ds2[0]))"
   ],
   "metadata": {
    "collapsed": false,
    "pycharm": {
     "name": "#%%\n"
    }
   }
  },
  {
   "cell_type": "code",
   "execution_count": 42,
   "outputs": [
    {
     "name": "stdout",
     "output_type": "stream",
     "text": [
      "2o32\n",
      "1m5l\n",
      "2g1g\n",
      "2mbj\n",
      "1f85\n",
      "1r4h\n",
      "1f7h\n",
      "1p5n\n",
      "1bgz\n",
      "1yn1\n",
      "1d0u\n",
      "2tob\n",
      "1ato\n",
      "1y26\n",
      "1nem\n",
      "1q8n\n",
      "1tfn\n",
      "1ik1\n",
      "1pjy\n",
      "1i4c\n",
      "1kp7\n",
      "2gis\n",
      "1ow9\n",
      "2fdt\n",
      "1p5p\n",
      "2a43\n",
      "1f9l\n",
      "1ymo\n",
      "377d\n",
      "1zig\n",
      "1nc0\n",
      "1rng\n",
      "1r2p\n",
      "1jo7\n",
      "2ixz\n",
      "1roq\n",
      "2aht\n",
      "255d\n",
      "1atw\n",
      "1mfy\n",
      "1hs2\n",
      "1yne\n",
      "1jp0\n",
      "1scl\n",
      "1hs8\n",
      "1c0o\n",
      "2hem\n",
      "1s2f\n",
      "1mfk\n",
      "1i46\n",
      "2b7g\n",
      "1zih\n",
      "1i4b\n",
      "1fyp\n",
      "1slp\n",
      "1cq5\n",
      "480d\n",
      "1kaj\n",
      "1jur\n",
      "1ebq\n",
      "2u2a\n",
      "1byj\n",
      "1r7z\n",
      "1s9s\n",
      "1nbr\n",
      "1z30\n",
      "1z31\n",
      "1wks\n",
      "1slo\n",
      "1xst\n",
      "1txs\n",
      "6tna\n",
      "1xwp\n",
      "1idv\n",
      "483d\n",
      "28sp\n",
      "28sr\n",
      "1jtw\n",
      "1z2j\n",
      "1szy\n",
      "1jwc\n",
      "1qwb\n",
      "1bzu\n",
      "1mt4\n",
      "1t28\n",
      "1oq0\n",
      "1b36\n",
      "1hwq\n",
      "2g1w\n",
      "1ebr\n",
      "1ie2\n",
      "413d\n",
      "2au4\n",
      "1yn2\n",
      "1qd3\n",
      "2o33\n",
      "1tbk\n",
      "1lvj\n",
      "1n8x\n",
      "1hs3\n",
      "1f7g\n",
      "1hlx\n",
      "1f79\n",
      "2f87\n",
      "1p79\n",
      "2gv3\n",
      "1fqz\n",
      "1xsu\n",
      "1f6x\n",
      "1k6g\n",
      "1l1w\n",
      "1q75\n",
      "1k5i\n",
      "2euy\n",
      "1bz2\n",
      "1ju7\n",
      "1ei2\n",
      "1tjz\n",
      "WTFSE\n",
      "1p5o\n",
      "2fey\n",
      "1bz3\n",
      "2es5\n",
      "1e95\n",
      "1uuu\n",
      "1k4b\n",
      "1l2x\n",
      "2b57\n",
      "2a9l\n",
      "1mfj\n",
      "1k2g\n",
      "2g9c\n",
      "1na2\n",
      "1jtj\n",
      "1hs1\n",
      "1f7f\n",
      "1jzc\n",
      "1tlr\n",
      "1yng\n",
      "1u3k\n",
      "387d\n",
      "2gip\n",
      "283d\n",
      "1d0t\n",
      "1syz\n",
      "1ebs\n",
      "1u2a\n",
      "1atv\n",
      "1lux\n",
      "1uui\n",
      "1o15\n",
      "1zc5\n",
      "1s34\n",
      "2f88\n",
      "1bn0\n",
      "1lc6\n",
      "1f78\n",
      "2gio\n",
      "1zif\n",
      "1p5m\n",
      "1xhp\n",
      "1xsh\n",
      "1kka\n",
      "2ixy\n",
      "1uts\n",
      "1esh\n",
      "2k96\n",
      "1ie1\n",
      "1k4a\n",
      "1m82\n",
      "1f7i\n",
      "1i3x\n",
      "1kks\n",
      "1ysv\n",
      "1luu\n",
      "1xsg\n",
      "2ho7\n",
      "2kx8\n",
      "1cql\n",
      "1rnk\n",
      "1sy4\n",
      "1rfr\n",
      "1xwu\n",
      "1f6z\n",
      "1nz1\n",
      "1feq\n",
      "1ync\n",
      "1fyo\n",
      "2tpk\n",
      "1fhk\n",
      "3dig\n",
      "1ylg\n",
      "1k6h\n",
      "1hs4\n",
      "1qwa\n",
      "1rht\n",
      "1vop\n",
      "1j4y\n",
      "1jox\n",
      "1r7w\n",
      "1ato\n",
      "2hns\n",
      "2awq\n"
     ]
    }
   ],
   "source": [
    "# find all pdb files in a directory\n",
    "path = '/home/flechenault/Documents/Gianluca/Structure_DB_Amber_HiRE/Prep_pureHire/Input'\n",
    "for file in os.listdir(path):\n",
    "    if file.endswith(\".pdb\"):\n",
    "        print(file.split('.')[0])"
   ],
   "metadata": {
    "collapsed": false,
    "pycharm": {
     "name": "#%%\n"
    }
   }
  },
  {
   "cell_type": "code",
   "execution_count": 43,
   "outputs": [
    {
     "name": "stdout",
     "output_type": "stream",
     "text": [
      "[2.608, 2.073, 1.519, 2.355, 4.19, 4.698, 4.824, 5.636, 2.13, 1.307, 15.223, 1.0, 2.8, 2.505, 1.826, 3.932, 4.309, 4.775, 4.546, 2.821, 3.813, 3.01, 0.908, 3.0, 4.0, 2.257, 0.48, 0.5, 4.247, 10.816, 11.121, 5.819, 0.501, 0.73, 0.331, 0.257, 0.224, 0.207, 1.2, 1.5, 0.4, 1.8, 0.8, 142.306, 1.0, 0.0, 1.483]\n"
     ]
    }
   ],
   "source": [
    "# extract pars from scale_RNA.dat\n",
    "\n",
    "with open(rootpath+'/Prep_pureHire/scale_RNA.dat', 'r') as f:\n",
    "    pars = []\n",
    "    for line in f.readlines():\n",
    "        pars.append(float(line.split()[1]))\n",
    "    print(pars)"
   ],
   "metadata": {
    "collapsed": false,
    "pycharm": {
     "name": "#%%\n"
    }
   }
  },
  {
   "cell_type": "code",
   "execution_count": 44,
   "outputs": [],
   "source": [
    "# Obtain bond_type, angle_type, tors_type from top file\n",
    "\n",
    "with open(rootpath+'/Prep_pureHire/Output/2g1w/'+'parameters.top', 'r') as f:\n",
    "    reader = f.read()\n",
    "\n",
    "    text = reader.split(\"SECTION BOND_FORCE_CONSTANT\")[1].split(\"SECTION ANGLE_FORCE_CONSTANT\")[0].strip()\n",
    "    bond_type = np.array([float(i) for i in text.split() if is_float(i)]).reshape(2,-1).transpose()\n",
    "    # print(bond_type)\n",
    "\n",
    "    text = reader.split(\"SECTION ANGLE_FORCE_CONSTANT\")[1].split(\"SECTION DIHEDRAL_FORCE_CONSTANT\")[0].strip()\n",
    "    angle_type = np.array([float(i) for i in text.split() if is_float(i)]).reshape(2,-1).transpose()\n",
    "\n",
    "    text = reader.split(\"SECTION DIHEDRAL_FORCE_CONSTANT\")[1].split(\"SECTION BONDS\")[0].strip()\n",
    "    tors_type = np.array([float(i) for i in text.split() if is_float(i)]).reshape(3,-1).transpose()\n",
    "    # print(tors_type)\n"
   ],
   "metadata": {
    "collapsed": false,
    "pycharm": {
     "name": "#%%\n"
    }
   }
  },
  {
   "cell_type": "code",
   "execution_count": 45,
   "outputs": [],
   "source": [
    "import torch\n",
    "import LocalEnergy as le"
   ],
   "metadata": {
    "collapsed": false,
    "pycharm": {
     "name": "#%%\n"
    }
   }
  },
  {
   "cell_type": "code",
   "execution_count": 46,
   "outputs": [
    {
     "name": "stdout",
     "output_type": "stream",
     "text": [
      "atom_type    [2, 1, 4, 5, 6, 7, 3, 2, 1, 4, 5, 6, 7, 3, 2, ...\n",
      "mass         [16.0, 12.01, 20.0, 12.0, 75.0, 75.0, 36.97, 1...\n",
      "charge       [0.0, 0.0, 0.0, 0.0, 0.0, 0.0, -1.0, 0.0, 0.0,...\n",
      "x            [-3.051, -3.76, -4.308, -5.478, -5.461, -6.871...\n",
      "y            [-9.645, -9.267, -7.866, -6.666, -7.28, -5.735...\n",
      "z            [-13.68, -14.861, -14.729, -13.092, -10.543, -...\n",
      "bonds        [6, 18, 1, 6, 9, 2, 9, 12, 3, 12, 15, 7, 3, 6,...\n",
      "angles       [6, 9, 12, 3, 9, 12, 15, 6, 0, 3, 6, 8, 3, 6, ...\n",
      "torsions     [6, 9, 12, 15, 1, 6, 9, 12, 15, 2, 6, 12, 15, ...\n",
      "energy       [45.101535, 154.8894705, 621.3587353, 167.3106...\n",
      "dtype: object\n",
      "torch.Size([142, 3])\n",
      "tensor(59.4831) tensor(240403.1250) tensor(1440.0828)\n"
     ]
    }
   ],
   "source": [
    "## get energies from file\n",
    "\n",
    "ds = pd.read_pickle('/home/flechenault/Documents/Gianluca/2g1w.pkl')\n",
    "print(ds)\n",
    "atom = ds[0]\n",
    "mass =  ds[1]\n",
    "charge = ds[2]\n",
    "coords = torch.tensor(np.array((ds[3],ds[4],ds[5])).transpose())\n",
    "print(coords.shape)\n",
    "bonds = np.array(ds[6]).reshape(-1,3).transpose()\n",
    "angles = np.array(ds[7]).reshape(-1,4).transpose()\n",
    "tors = np.array(ds[8]).reshape(-1,5).transpose()\n",
    "\n",
    "E_bonds = le.bonds_energy(coords,bonds,bond_type,pars)\n",
    "E_angles = le.angles_energy(atom,coords,angles,angle_type,pars)\n",
    "E_tors = le.torsions_energy(atom,coords,tors,tors_type,pars)\n",
    "print(E_bonds, E_angles, E_tors)"
   ],
   "metadata": {
    "collapsed": false,
    "pycharm": {
     "name": "#%%\n"
    }
   }
  },
  {
   "cell_type": "code",
   "execution_count": 47,
   "outputs": [
    {
     "data": {
      "text/plain": "tensor([-6,  3,  0])"
     },
     "execution_count": 47,
     "metadata": {},
     "output_type": "execute_result"
    }
   ],
   "source": [
    "a = torch.tensor([1,2,3])\n",
    "b = torch.tensor([-1,-2,-6])\n",
    "torch.cross(a,b)"
   ],
   "metadata": {
    "collapsed": false,
    "pycharm": {
     "name": "#%%\n"
    }
   }
  },
  {
   "cell_type": "code",
   "execution_count": 48,
   "outputs": [
    {
     "name": "stdout",
     "output_type": "stream",
     "text": [
      "['2o32.pdb', '1m5l.pdb', '2g1g.pdb', '2mbj.pdb', '1f85.pdb', '1r4h.pdb', '1f7h.pdb', '1p5n.pdb', '1bgz.pdb', '1yn1.pdb', '1d0u.pdb', '2tob.pdb', '1ato.pdb', '1y26.pdb', '1nem.pdb', '1q8n.pdb', '1tfn.pdb', '1ik1.pdb', '1pjy.pdb', '1i4c.pdb', '1kp7.pdb', '2gis.pdb', '1ow9.pdb', '2fdt.pdb', '1p5p.pdb', '2a43.pdb', '1f9l.pdb', '1ymo.pdb', '377d.pdb', '1zig.pdb', '1nc0.pdb', '1rng.pdb', '1r2p.pdb', '1jo7.pdb', '2ixz.pdb', '1roq.pdb', '2aht.pdb', '255d.pdb', '1atw.pdb', '1mfy.pdb', '1hs2.pdb', '1yne.pdb', '1jp0.pdb', '1scl.pdb', '1hs8.pdb', '1c0o.pdb', '2hem.pdb', '1s2f.pdb', '1mfk.pdb', '1i46.pdb', '2b7g.pdb', '1zih.pdb', '1i4b.pdb', '1fyp.pdb', '1slp.pdb', '1cq5.pdb', '480d.pdb', '1kaj.pdb', '1jur.pdb', '1ebq.pdb', '2u2a.pdb', '1byj.pdb', '1r7z.pdb', '1s9s.pdb', '1nbr.pdb', '1z30.pdb', '1z31.pdb', '1wks.pdb', '1slo.pdb', '1xst.pdb', '1txs.pdb', '6tna.pdb', '1xwp.pdb', '1idv.pdb', '483d.pdb', '28sp.pdb', '28sr.pdb', '1jtw.pdb', '1z2j.pdb', '1szy.pdb', '1jwc.pdb', '1qwb.pdb', '1bzu.pdb', '1mt4.pdb', '1t28.pdb', '1oq0.pdb', '1b36.pdb', '1hwq.pdb', '2g1w.pdb', '1ebr.pdb', '1ie2.pdb', '413d.pdb', '2au4.pdb', '1yn2.pdb', '1qd3.pdb', '2o33.pdb', '1tbk.pdb', '1lvj.pdb', '1n8x.pdb', '1hs3.pdb', '1f7g.pdb', '1hlx.pdb', '1f79.pdb', '2f87.pdb', '1p79.pdb', '2gv3.pdb', '1fqz.pdb', '1xsu.pdb', '1f6x.pdb', '1k6g.pdb', '1l1w.pdb', '1q75.pdb', '1k5i.pdb', '2euy.pdb', '1bz2.pdb', '1ju7.pdb', '1ei2.pdb', '1tjz.pdb', '1p5o.pdb', '2fey.pdb', '1bz3.pdb', '2es5.pdb', '1e95.pdb', '1uuu.pdb', '1k4b.pdb', '1l2x.pdb', '2b57.pdb', '2a9l.pdb', '1mfj.pdb', '1k2g.pdb', '2g9c.pdb', '1na2.pdb', '1jtj.pdb', '1hs1.pdb', '1f7f.pdb', '1jzc.pdb', '1tlr.pdb', '1yng.pdb', '1u3k.pdb', '387d.pdb', '2gip.pdb', '283d.pdb', '1d0t.pdb', '1syz.pdb', '1ebs.pdb', '1u2a.pdb', '1atv.pdb', '1lux.pdb', '1uui.pdb', '1o15.pdb', '1zc5.pdb', '1s34.pdb', '2f88.pdb', '1bn0.pdb', '1lc6.pdb', '1f78.pdb', '2gio.pdb', '1zif.pdb', '1p5m.pdb', '1xhp.pdb', '1xsh.pdb', '1kka.pdb', '2ixy.pdb', '1uts.pdb', '1esh.pdb', '2k96.pdb', '1ie1.pdb', '1k4a.pdb', '1m82.pdb', '1f7i.pdb', '1i3x.pdb', '1kks.pdb', '1ysv.pdb', '1luu.pdb', '1xsg.pdb', '2ho7.pdb', '2kx8.pdb', '1cql.pdb', '1rnk.pdb', '1sy4.pdb', '1rfr.pdb', '1xwu.pdb', '1f6z.pdb', '1nz1.pdb', '1feq.pdb', '1ync.pdb', '1fyo.pdb', '2tpk.pdb', '1fhk.pdb', '3dig.pdb', '1ylg.pdb', '1k6h.pdb', '1hs4.pdb', '1qwa.pdb', '1rht.pdb', '1vop.pdb', '1j4y.pdb', '1jox.pdb', '1r7w.pdb', '2hns.pdb', '2awq.pdb']\n",
      "377d.pdb\n"
     ]
    }
   ],
   "source": [
    "path = '/home/flechenault/Documents/Gianluca/Structure_DB_Amber_HiRE/FA_PDB/Source_PDB/'\n",
    "filelist = []\n",
    "\n",
    "for file in os.listdir(path):\n",
    "    if file.endswith(\".pdb\"):\n",
    "        filelist.append(file)\n",
    "print(filelist)\n",
    "\n",
    "i = filelist.index('1ymo.pdb')\n",
    "print(filelist[i+1])"
   ],
   "metadata": {
    "collapsed": false,
    "pycharm": {
     "name": "#%%\n"
    }
   }
  }
 ],
 "metadata": {
  "kernelspec": {
   "display_name": "Python 3",
   "language": "python",
   "name": "python3"
  },
  "language_info": {
   "codemirror_mode": {
    "name": "ipython",
    "version": 2
   },
   "file_extension": ".py",
   "mimetype": "text/x-python",
   "name": "python",
   "nbconvert_exporter": "python",
   "pygments_lexer": "ipython2",
   "version": "2.7.6"
  }
 },
 "nbformat": 4,
 "nbformat_minor": 0
}