{
 "cells": [
  {
   "cell_type": "code",
   "execution_count": 3,
   "metadata": {},
   "outputs": [],
   "source": [
    "from __future__ import print_function, division\n",
    "import numpy as np\n",
    "import sys\n",
    "sys.path.append('..')\n",
    "\n",
    "import time\n",
    "import torch\n",
    "import pickle\n",
    "from tqdm import tqdm\n",
    "from torch.utils.data import DataLoader, random_split\n",
    "import torch.nn as nn\n",
    "from torch.nn import Parameter\n",
    "from src.data_classes import Model, RNADataset\n",
    "from src.optim_functions import get_target, loss_fn, train, test\n",
    "from sklearn import decomposition, manifold\n",
    "from sklearn.preprocessing import LabelBinarizer\n",
    "import matplotlib.pyplot as plt\n",
    "import seaborn as sns\n",
    "import math\n",
    "from cmath import rect, phase\n",
    "# plt.style.use('bmh')\n",
    "\n",
    "from matplotlib import rc\n",
    "plt.style.use('default')\n",
    "plt.rcParams[\"font.family\"] = \"serif\"\n",
    "rc('text.latex', preamble=r'\\usepackage{cmbright}')"
   ]
  },
  {
   "cell_type": "code",
   "execution_count": 4,
   "metadata": {},
   "outputs": [],
   "source": [
    "def plot_hist(idx_dict,energies):\n",
    "    fig,ax = plt.subplots(1,3,figsize=(18,5))\n",
    "    for i in idx_dict.keys():\n",
    "        hist1 = ax[i].hist(energies['amber'][i], bins=30, density=True, label='Amber')\n",
    "        ax[i].hist(energies['hire'][i], bins=30, alpha=0.6, density=True, label='HiRE')\n",
    "        ax[i].set_xlabel(idx_dict[i]+' energy', fontsize=15)\n",
    "        ax[i].set_ylabel('Prob. distribution', fontsize=15)\n",
    "        ax[i].set_title(idx_dict[i]+' energy distribution', fontsize=18)\n",
    "        ax[i].legend(fontsize=15)\n",
    "    return 0\n",
    "\n",
    "\n",
    "def compare_energies(dataset,model,plot=False):\n",
    "    \n",
    "    idx_dict = {\n",
    "        0: 'Bonds',\n",
    "        1: 'Angles',\n",
    "        2: 'Torsions'\n",
    "    }\n",
    "    energies = {'amber': [], 'hire': []}\n",
    "    stats = {'amber': [], 'hire': []}\n",
    "    for i in idx_dict.keys():\n",
    "        amber_en = np.array([dataset[j]['features'][i,9].item() for j in range(len(dataset))])\n",
    "        hire_en = np.array([model(dataset[j]).squeeze()[i].item() for j in range(len(dataset))])\n",
    "        energies['amber'].append(amber_en)\n",
    "        energies['hire'].append(hire_en)\n",
    "        stats['amber'].append([amber_en.mean(), amber_en.var()])\n",
    "        stats['hire'].append([hire_en.mean(), hire_en.var()])\n",
    "        print(idx_dict[i]+' energy computed')\n",
    "    stats['amber'] = np.array(stats['amber'])\n",
    "    stats['hire'] = np.array(stats['hire'])\n",
    "    \n",
    "    if plot:\n",
    "        plot_hist(idx_dict,energies)\n",
    "        \n",
    "    return energies,stats\n",
    "\n",
    "\n",
    "def amber_dist(dataset):\n",
    "    idx_dict = {\n",
    "        0: 'Bonds',\n",
    "        1: 'Angles',\n",
    "        2: 'Torsions'\n",
    "    }\n",
    "    energies = []\n",
    "    stats = []\n",
    "    for i in idx_dict.keys():\n",
    "        amber_en = np.array([dataset[j]['features'][i,9].item() for j in range(len(dataset))])\n",
    "        energies.append(amber_en)\n",
    "        stats.append([amber_en.mean(), amber_en.var()])\n",
    "    fig,ax = plt.subplots(1,3,figsize=(18,5.5))\n",
    "    for i in idx_dict.keys():\n",
    "        if i == 0:\n",
    "            hist1 = ax[i].hist(energies[i], bins = 50, density=True, color='steelblue', lw=0)\n",
    "        else:\n",
    "            hist1 = ax[i].hist(energies[i], bins = 25, density=True, color='steelblue', lw=0)\n",
    "        ax[i].set_xlabel(idx_dict[i]+r' energy (kcal/mol)', fontsize=16, fontname='serif')\n",
    "        ax[i].set_title(idx_dict[i]+' energy distribution', fontsize=18, fontname='serif')\n",
    "        ax[i].grid(linewidth=0.2)\n",
    "        textstr = '\\n'.join((\n",
    "        r'$\\mu=%.2f$' % (stats[i][0], ),\n",
    "        r'$\\sigma=%.2f$' % (stats[i][1]**0.5, )))\n",
    "\n",
    "        # these are matplotlib.patch.Patch properties\n",
    "        props = dict(boxstyle='round', facecolor='wheat', alpha=0.3)\n",
    "\n",
    "        # place a text box in upper left in axes coords\n",
    "        ax[i].text(0.65, 0.9, textstr, transform=ax[i].transAxes, fontsize=16,\n",
    "                verticalalignment='top', bbox=props, fontname='serif')\n",
    "        \n",
    "    ax[0].set_ylabel('Prob. distribution', fontsize=16, fontname='serif')\n",
    "    ax[0].set_xlim([5,30])\n",
    "    plt.savefig('Images/amber_histo.png', bbox_inches='tight', dpi=100)\n",
    "    return energies,stats\n"
   ]
  },
  {
   "cell_type": "code",
   "execution_count": 6,
   "metadata": {},
   "outputs": [
    {
     "ename": "FileNotFoundError",
     "evalue": "[Errno 2] No such file or directory: '../results/b4_iv_e4/200ep.pth'",
     "output_type": "error",
     "traceback": [
      "\u001b[1;31m---------------------------------------------------------------------------\u001b[0m",
      "\u001b[1;31mFileNotFoundError\u001b[0m                         Traceback (most recent call last)",
      "\u001b[1;32m<ipython-input-6-661e0072f5bf>\u001b[0m in \u001b[0;36m<module>\u001b[1;34m\u001b[0m\n\u001b[0;32m      1\u001b[0m \u001b[0mdataset\u001b[0m \u001b[1;33m=\u001b[0m \u001b[0mRNADataset\u001b[0m\u001b[1;33m(\u001b[0m\u001b[1;33m)\u001b[0m\u001b[1;33m\u001b[0m\u001b[1;33m\u001b[0m\u001b[0m\n\u001b[0;32m      2\u001b[0m \u001b[0mmodel\u001b[0m \u001b[1;33m=\u001b[0m \u001b[0mModel\u001b[0m\u001b[1;33m(\u001b[0m\u001b[1;33m)\u001b[0m\u001b[1;33m\u001b[0m\u001b[1;33m\u001b[0m\u001b[0m\n\u001b[1;32m----> 3\u001b[1;33m \u001b[0mmodel\u001b[0m\u001b[1;33m.\u001b[0m\u001b[0mload_state_dict\u001b[0m\u001b[1;33m(\u001b[0m\u001b[1;33m(\u001b[0m\u001b[0mtorch\u001b[0m\u001b[1;33m.\u001b[0m\u001b[0mload\u001b[0m\u001b[1;33m(\u001b[0m\u001b[1;34m'../results/b4_iv_e4/200ep.pth'\u001b[0m\u001b[1;33m)\u001b[0m\u001b[1;33m)\u001b[0m\u001b[1;33m)\u001b[0m\u001b[1;33m\u001b[0m\u001b[1;33m\u001b[0m\u001b[0m\n\u001b[0m\u001b[0;32m      4\u001b[0m \u001b[0mcompare_energies\u001b[0m\u001b[1;33m(\u001b[0m\u001b[0mdataset\u001b[0m\u001b[1;33m,\u001b[0m\u001b[0mmodel\u001b[0m\u001b[1;33m,\u001b[0m\u001b[0mplot\u001b[0m\u001b[1;33m=\u001b[0m\u001b[1;32mTrue\u001b[0m\u001b[1;33m)\u001b[0m\u001b[1;33m\u001b[0m\u001b[1;33m\u001b[0m\u001b[0m\n",
      "\u001b[1;32m~\\anaconda3\\lib\\site-packages\\torch\\serialization.py\u001b[0m in \u001b[0;36mload\u001b[1;34m(f, map_location, pickle_module, **pickle_load_args)\u001b[0m\n\u001b[0;32m    697\u001b[0m         \u001b[0mpickle_load_args\u001b[0m\u001b[1;33m[\u001b[0m\u001b[1;34m'encoding'\u001b[0m\u001b[1;33m]\u001b[0m \u001b[1;33m=\u001b[0m \u001b[1;34m'utf-8'\u001b[0m\u001b[1;33m\u001b[0m\u001b[1;33m\u001b[0m\u001b[0m\n\u001b[0;32m    698\u001b[0m \u001b[1;33m\u001b[0m\u001b[0m\n\u001b[1;32m--> 699\u001b[1;33m     \u001b[1;32mwith\u001b[0m \u001b[0m_open_file_like\u001b[0m\u001b[1;33m(\u001b[0m\u001b[0mf\u001b[0m\u001b[1;33m,\u001b[0m \u001b[1;34m'rb'\u001b[0m\u001b[1;33m)\u001b[0m \u001b[1;32mas\u001b[0m \u001b[0mopened_file\u001b[0m\u001b[1;33m:\u001b[0m\u001b[1;33m\u001b[0m\u001b[1;33m\u001b[0m\u001b[0m\n\u001b[0m\u001b[0;32m    700\u001b[0m         \u001b[1;32mif\u001b[0m \u001b[0m_is_zipfile\u001b[0m\u001b[1;33m(\u001b[0m\u001b[0mopened_file\u001b[0m\u001b[1;33m)\u001b[0m\u001b[1;33m:\u001b[0m\u001b[1;33m\u001b[0m\u001b[1;33m\u001b[0m\u001b[0m\n\u001b[0;32m    701\u001b[0m             \u001b[1;31m# The zipfile reader is going to advance the current file position.\u001b[0m\u001b[1;33m\u001b[0m\u001b[1;33m\u001b[0m\u001b[1;33m\u001b[0m\u001b[0m\n",
      "\u001b[1;32m~\\anaconda3\\lib\\site-packages\\torch\\serialization.py\u001b[0m in \u001b[0;36m_open_file_like\u001b[1;34m(name_or_buffer, mode)\u001b[0m\n\u001b[0;32m    228\u001b[0m \u001b[1;32mdef\u001b[0m \u001b[0m_open_file_like\u001b[0m\u001b[1;33m(\u001b[0m\u001b[0mname_or_buffer\u001b[0m\u001b[1;33m,\u001b[0m \u001b[0mmode\u001b[0m\u001b[1;33m)\u001b[0m\u001b[1;33m:\u001b[0m\u001b[1;33m\u001b[0m\u001b[1;33m\u001b[0m\u001b[0m\n\u001b[0;32m    229\u001b[0m     \u001b[1;32mif\u001b[0m \u001b[0m_is_path\u001b[0m\u001b[1;33m(\u001b[0m\u001b[0mname_or_buffer\u001b[0m\u001b[1;33m)\u001b[0m\u001b[1;33m:\u001b[0m\u001b[1;33m\u001b[0m\u001b[1;33m\u001b[0m\u001b[0m\n\u001b[1;32m--> 230\u001b[1;33m         \u001b[1;32mreturn\u001b[0m \u001b[0m_open_file\u001b[0m\u001b[1;33m(\u001b[0m\u001b[0mname_or_buffer\u001b[0m\u001b[1;33m,\u001b[0m \u001b[0mmode\u001b[0m\u001b[1;33m)\u001b[0m\u001b[1;33m\u001b[0m\u001b[1;33m\u001b[0m\u001b[0m\n\u001b[0m\u001b[0;32m    231\u001b[0m     \u001b[1;32melse\u001b[0m\u001b[1;33m:\u001b[0m\u001b[1;33m\u001b[0m\u001b[1;33m\u001b[0m\u001b[0m\n\u001b[0;32m    232\u001b[0m         \u001b[1;32mif\u001b[0m \u001b[1;34m'w'\u001b[0m \u001b[1;32min\u001b[0m \u001b[0mmode\u001b[0m\u001b[1;33m:\u001b[0m\u001b[1;33m\u001b[0m\u001b[1;33m\u001b[0m\u001b[0m\n",
      "\u001b[1;32m~\\anaconda3\\lib\\site-packages\\torch\\serialization.py\u001b[0m in \u001b[0;36m__init__\u001b[1;34m(self, name, mode)\u001b[0m\n\u001b[0;32m    209\u001b[0m \u001b[1;32mclass\u001b[0m \u001b[0m_open_file\u001b[0m\u001b[1;33m(\u001b[0m\u001b[0m_opener\u001b[0m\u001b[1;33m)\u001b[0m\u001b[1;33m:\u001b[0m\u001b[1;33m\u001b[0m\u001b[1;33m\u001b[0m\u001b[0m\n\u001b[0;32m    210\u001b[0m     \u001b[1;32mdef\u001b[0m \u001b[0m__init__\u001b[0m\u001b[1;33m(\u001b[0m\u001b[0mself\u001b[0m\u001b[1;33m,\u001b[0m \u001b[0mname\u001b[0m\u001b[1;33m,\u001b[0m \u001b[0mmode\u001b[0m\u001b[1;33m)\u001b[0m\u001b[1;33m:\u001b[0m\u001b[1;33m\u001b[0m\u001b[1;33m\u001b[0m\u001b[0m\n\u001b[1;32m--> 211\u001b[1;33m         \u001b[0msuper\u001b[0m\u001b[1;33m(\u001b[0m\u001b[0m_open_file\u001b[0m\u001b[1;33m,\u001b[0m \u001b[0mself\u001b[0m\u001b[1;33m)\u001b[0m\u001b[1;33m.\u001b[0m\u001b[0m__init__\u001b[0m\u001b[1;33m(\u001b[0m\u001b[0mopen\u001b[0m\u001b[1;33m(\u001b[0m\u001b[0mname\u001b[0m\u001b[1;33m,\u001b[0m \u001b[0mmode\u001b[0m\u001b[1;33m)\u001b[0m\u001b[1;33m)\u001b[0m\u001b[1;33m\u001b[0m\u001b[1;33m\u001b[0m\u001b[0m\n\u001b[0m\u001b[0;32m    212\u001b[0m \u001b[1;33m\u001b[0m\u001b[0m\n\u001b[0;32m    213\u001b[0m     \u001b[1;32mdef\u001b[0m \u001b[0m__exit__\u001b[0m\u001b[1;33m(\u001b[0m\u001b[0mself\u001b[0m\u001b[1;33m,\u001b[0m \u001b[1;33m*\u001b[0m\u001b[0margs\u001b[0m\u001b[1;33m)\u001b[0m\u001b[1;33m:\u001b[0m\u001b[1;33m\u001b[0m\u001b[1;33m\u001b[0m\u001b[0m\n",
      "\u001b[1;31mFileNotFoundError\u001b[0m: [Errno 2] No such file or directory: '../results/b4_iv_e4/200ep.pth'"
     ]
    }
   ],
   "source": [
    "dataset = RNADataset()\n",
    "model = Model()\n",
    "model.load_state_dict((torch.load('../results/b4_iv_e4/200ep.pth')))\n",
    "compare_energies(dataset,model,plot=True)"
   ]
  },
  {
   "cell_type": "code",
   "execution_count": 10,
   "metadata": {},
   "outputs": [
    {
     "name": "stdout",
     "output_type": "stream",
     "text": [
      "(2, 5)\n"
     ]
    }
   ],
   "source": [
    "loss = np.load('../results/b4_all10_e43/loss_1000ep.npy')"
   ]
  }
 ],
 "metadata": {
  "kernelspec": {
   "display_name": "Python 3",
   "language": "python",
   "name": "python3"
  },
  "language_info": {
   "codemirror_mode": {
    "name": "ipython",
    "version": 3
   },
   "file_extension": ".py",
   "mimetype": "text/x-python",
   "name": "python",
   "nbconvert_exporter": "python",
   "pygments_lexer": "ipython3",
   "version": "3.8.5"
  }
 },
 "nbformat": 4,
 "nbformat_minor": 5
}
